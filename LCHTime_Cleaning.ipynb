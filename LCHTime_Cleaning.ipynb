{
 "cells": [
  {
   "cell_type": "code",
   "execution_count": 6,
   "id": "bd7072e2",
   "metadata": {},
   "outputs": [
    {
     "name": "stdout",
     "output_type": "stream",
     "text": [
      "Merged & cleaned CSV saved as: PHX_LCH_Duration_merged_cleaned.csv\n"
     ]
    }
   ],
   "source": [
    "import pandas as pd\n",
    "import os\n",
    "\n",
    "# === Input Files ===\n",
    "input_file_1 = \"PHX_LCH_Duration.csv\"\n",
    "input_file_2 = \"PHX_LCH_Count.csv\"\n",
    "\n",
    "# === Output File Name ===\n",
    "file_root, file_ext = os.path.splitext(input_file_1)\n",
    "output_file = f\"{file_root}_merged_cleaned{file_ext}\"\n",
    "\n",
    "# === Helper: Convert seconds to HH:MM:SS ===\n",
    "def convert_seconds_to_hms(seconds):\n",
    "    try:\n",
    "        seconds = float(seconds)\n",
    "        hours = int(seconds // 3600)\n",
    "        minutes = int((seconds % 3600) // 60)\n",
    "        secs = int(seconds % 60)\n",
    "        return f\"{hours:02}:{minutes:02}:{secs:02}\"\n",
    "    except:\n",
    "        return \"00:00:00\"\n",
    "\n",
    "# === Step 1: Load and Clean First File ===\n",
    "df1 = pd.read_csv(input_file_1)\n",
    "df1 = df1[['environment', 'lifecycle_hook_name', 'workload_deployment', 'Value']]\n",
    "df1 = df1.drop_duplicates(subset=['environment', 'lifecycle_hook_name', 'workload_deployment'], keep='first')\n",
    "df1['Duration'] = df1['Value'].apply(convert_seconds_to_hms)\n",
    "df1 = df1.drop(columns=['Value'])  # drop original Value column\n",
    "\n",
    "# === Step 2: Load and Clean Second File ===\n",
    "df2 = pd.read_csv(input_file_2)\n",
    "df2 = df2[['environment', 'lifecycle_hook_name', 'workload_deployment', 'Value']]\n",
    "df2 = df2.drop_duplicates(subset=['environment', 'lifecycle_hook_name', 'workload_deployment'], keep='first')\n",
    "\n",
    "# Convert 'Value' in second file to integer Count\n",
    "df2['Count'] = pd.to_numeric(df2['Value'], errors='coerce').fillna(0).astype(int)\n",
    "df2 = df2.drop(columns=['Value'])\n",
    "\n",
    "# === Step 3: Merge on 3 keys ===\n",
    "merged = pd.merge(\n",
    "    df1,\n",
    "    df2,\n",
    "    on=['environment', 'lifecycle_hook_name', 'workload_deployment'],\n",
    "    how='inner'\n",
    ")\n",
    "\n",
    "# === Step 4: Save the final result ===\n",
    "merged.to_csv(output_file, index=False)\n",
    "print(f\"Merged & cleaned CSV saved as: {output_file}\")\n",
    "\n"
   ]
  }
 ],
 "metadata": {
  "kernelspec": {
   "display_name": "Python 3",
   "language": "python",
   "name": "python3"
  },
  "language_info": {
   "codemirror_mode": {
    "name": "ipython",
    "version": 3
   },
   "file_extension": ".py",
   "mimetype": "text/x-python",
   "name": "python",
   "nbconvert_exporter": "python",
   "pygments_lexer": "ipython3",
   "version": "3.9.6"
  }
 },
 "nbformat": 4,
 "nbformat_minor": 5
}
